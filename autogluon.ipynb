{
 "cells": [
  {
   "cell_type": "code",
   "execution_count": null,
   "id": "9a3b3548",
   "metadata": {},
   "outputs": [],
   "source": [
    "from autogluon.tabular import TabularDataset, TabularPredictor\n",
    "import pandas as pd"
   ]
  },
  {
   "cell_type": "code",
   "execution_count": null,
   "id": "66c43239",
   "metadata": {},
   "outputs": [],
   "source": [
    "data = pd.read_csv(\"./datas/micdata.csv\")\n",
    "label_column = \"6#炉排烟SO2小时实时均值\"\n",
    "save_path = 'agModels-predictClass'\n",
    "train=data.iloc[0:11932]\n",
    "test=data[~data.index.isin(train.index)]\n",
    "predictor = TabularPredictor(label=label_column,path=save_path).fit(train_data=train)\n",
    "results = predictor.fit_summary()"
   ]
  },
  {
   "cell_type": "code",
   "execution_count": null,
   "id": "2fc09eb6",
   "metadata": {},
   "outputs": [],
   "source": [
    "label = \"6#炉排烟SO2小时实时均值\"\n",
    "test_data = TabularDataset(test)\n",
    "y_test = test_data[label] \n",
    "test_data_nolab = test_data.drop(columns=[label])"
   ]
  },
  {
   "cell_type": "code",
   "execution_count": null,
   "id": "0d62e0df",
   "metadata": {},
   "outputs": [],
   "source": [
    "y_pred = predictor.predict(test_data_nolab )\n",
    "print(\"Predictions:  \\n\", y_pred)\n",
    "perf = predictor.evaluate_predictions(y_true=y_test, y_pred=y_pred, auxiliary_metrics=True)"
   ]
  },
  {
   "cell_type": "code",
   "execution_count": null,
   "id": "ef1fc6a2",
   "metadata": {},
   "outputs": [],
   "source": [
    "predictor.leaderboard(test_data, silent=True)"
   ]
  }
 ],
 "metadata": {
  "kernelspec": {
   "display_name": "Python 3",
   "language": "python",
   "name": "python3"
  },
  "language_info": {
   "codemirror_mode": {
    "name": "ipython",
    "version": 3
   },
   "file_extension": ".py",
   "mimetype": "text/x-python",
   "name": "python",
   "nbconvert_exporter": "python",
   "pygments_lexer": "ipython3",
   "version": "3.8.8"
  }
 },
 "nbformat": 4,
 "nbformat_minor": 5
}
